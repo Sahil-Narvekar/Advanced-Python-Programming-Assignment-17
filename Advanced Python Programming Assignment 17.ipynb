{
 "cells": [
  {
   "cell_type": "code",
   "execution_count": null,
   "metadata": {},
   "outputs": [],
   "source": [
    "1. Create a function that transposes a 2D matrix.\n",
    "\n",
    "Examples\n",
    "\n",
    "transpose_matrix([\n",
    "  [1, 1, 1],\n",
    "  [2, 2, 2],\n",
    "  [3, 3, 3]\n",
    "]) ➞ [\n",
    "  [1, 2, 3],\n",
    "  [1, 2, 3],\n",
    "  [1, 2, 3]\n",
    "]\n",
    "\n",
    "transpose_matrix([\n",
    "  [5, 5],\n",
    "  [6, 7],\n",
    "  [9, 1]\n",
    "]) ➞ [\n",
    "  [5, 6, 9],\n",
    "  [5, 7, 1]\n",
    "]\n"
   ]
  },
  {
   "cell_type": "code",
   "execution_count": 8,
   "metadata": {},
   "outputs": [
    {
     "name": "stdout",
     "output_type": "stream",
     "text": [
      "Enter the number of rows3\n",
      "Enter the elements in row 1 5,5\n",
      "Enter the elements in row 2 6,7\n",
      "Enter the elements in row 3 9,1\n"
     ]
    },
    {
     "data": {
      "text/plain": [
       "matrix([[5, 6, 9],\n",
       "        [5, 7, 1]])"
      ]
     },
     "execution_count": 8,
     "metadata": {},
     "output_type": "execute_result"
    }
   ],
   "source": [
    "a=int(input('Enter the number of rows'))\n",
    "b=[]\n",
    "import numpy as np\n",
    "for i in range(a):\n",
    "    d=input('Enter the elements in row '+str(i+1)+' ').split(',')\n",
    "    d=[int(i) for i in d]\n",
    "    b.append(d)\n",
    "def transpose_matrix(b):\n",
    "    b=np.matrix(b)\n",
    "    b=np.transpose(b)\n",
    "    return b\n",
    "transpose_matrix(b)"
   ]
  },
  {
   "cell_type": "code",
   "execution_count": null,
   "metadata": {},
   "outputs": [],
   "source": [
    "2. Create a function that determines whether a string is a valid hex code.\n",
    "\n",
    "A hex code must begin with a pound key  and is exactly 6 characters in length. Each character must be a \n",
    "digit from 0-9 or an alphabetic character from A-F. All alphabetic characters may be uppercase or\n",
    "lowercase.\n",
    "\n",
    "Examples\n",
    "\n",
    "is_valid_hex_code(\"#CD5C5C\") ➞ True\n",
    "\n",
    "is_valid_hex_code(\"#EAECEE\") ➞ True\n",
    "\n",
    "is_valid_hex_code(\"#eaecee\") ➞ True\n",
    "\n",
    "is_valid_hex_code(\"#CD5C58C\") ➞ False\n",
    "# Length exceeds 6\n",
    "\n",
    "is_valid_hex_code(\"#CD5C5Z\") ➞ False\n",
    "# Not all alphabetic characters in A-F\n",
    "\n",
    "is_valid_hex_code(\"#CD5C&C\") ➞ False\n",
    "# Contains unacceptable character\n",
    "\n",
    "is_valid_hex_code(\"CD5C5C\") ➞ False\n",
    "# Missing #\n"
   ]
  },
  {
   "cell_type": "code",
   "execution_count": 21,
   "metadata": {},
   "outputs": [
    {
     "name": "stdout",
     "output_type": "stream",
     "text": [
      "Enter the string#CD5C5C\n"
     ]
    },
    {
     "data": {
      "text/plain": [
       "True"
      ]
     },
     "execution_count": 21,
     "metadata": {},
     "output_type": "execute_result"
    }
   ],
   "source": [
    "\n",
    "def is_valid_hex_code(a):\n",
    "    if a[0]!='#' or len(a)!=7:\n",
    "        return('False')\n",
    "    a=a[1:]\n",
    "    b=''\n",
    "    for i in a:\n",
    "        if not i.isalnum():\n",
    "            return('False')\n",
    "        elif i.isalpha():\n",
    "            b+=i\n",
    "    return(b.islower() or b.isupper())\n",
    "m=input('Enter the string')\n",
    "is_valid_hex_code(m)"
   ]
  },
  {
   "cell_type": "code",
   "execution_count": null,
   "metadata": {},
   "outputs": [],
   "source": [
    "5. From point A, an object is moving towards point B at constant velocity va (in km/hr). From point B, \n",
    "another object is moving towards point A at constant velocity vb (in km/hr). Knowing this and the distance \n",
    "between point A and B (in km), write a function that returns how much time passes until both objects meet.\n",
    "\n",
    "Format the output like this:\n",
    "\n",
    "\"2h 23min 34s\"\n",
    "\n",
    "Examples\n",
    "\n",
    "lets_meet(100, 10, 30) ➞ \"2h 30min 0s\"\n",
    "\n",
    "lets_meet(280, 70, 80) ➞ \"1h 52min 0s\"\n",
    "\n",
    "lets_meet(90, 75, 65) ➞ \"0h 38min 34s\""
   ]
  },
  {
   "cell_type": "code",
   "execution_count": 33,
   "metadata": {},
   "outputs": [
    {
     "name": "stdout",
     "output_type": "stream",
     "text": [
      "Enter the distance,speed of object1,speed of object2 90,75,65\n"
     ]
    },
    {
     "data": {
      "text/plain": [
       "'0h 38min 34s'"
      ]
     },
     "execution_count": 33,
     "metadata": {},
     "output_type": "execute_result"
    }
   ],
   "source": [
    "l,m,n=input('Enter the distance,speed of object1,speed of object2 ').split(',')\n",
    "def lets_meet(a, b, c):\n",
    "    a,b,c=int(a),int(b),int(c)\n",
    "    x=(a*b)/(b+c)\n",
    "    m=x/b\n",
    "    sec=m*3600\n",
    "    sec_value = sec % (24 * 3600)\n",
    "    hour_value = sec_value // 3600\n",
    "    sec_value %= 3600\n",
    "    min = sec_value // 60\n",
    "    sec_value %= 60\n",
    "    return('{}h {}min {}s'.format(int(hour_value),int(min),int(sec_value)))\n",
    "lets_meet(l,m,n)"
   ]
  },
  {
   "cell_type": "code",
   "execution_count": null,
   "metadata": {},
   "outputs": [],
   "source": []
  }
 ],
 "metadata": {
  "kernelspec": {
   "display_name": "Python 3",
   "language": "python",
   "name": "python3"
  },
  "language_info": {
   "codemirror_mode": {
    "name": "ipython",
    "version": 3
   },
   "file_extension": ".py",
   "mimetype": "text/x-python",
   "name": "python",
   "nbconvert_exporter": "python",
   "pygments_lexer": "ipython3",
   "version": "3.8.3"
  }
 },
 "nbformat": 4,
 "nbformat_minor": 4
}
